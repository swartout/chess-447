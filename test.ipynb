{
 "cells": [
  {
   "cell_type": "code",
   "execution_count": 40,
   "metadata": {},
   "outputs": [],
   "source": [
    "import math\n",
    "import time\n",
    "import matplotlib.pyplot as plt\n",
    "\n",
    "import torch\n",
    "from torch import nn, Tensor\n",
    "from torch.nn import TransformerEncoder, TransformerEncoderLayer\n",
    "\n",
    "import numpy as np\n",
    "from tqdm import tqdm\n",
    "import pickle\n",
    "\n",
    "device = torch.device('cuda' if torch.cuda.is_available() else 'cpu')"
   ]
  },
  {
   "cell_type": "code",
   "execution_count": 2,
   "metadata": {},
   "outputs": [],
   "source": [
    "# Comes from data preprocessing\n",
    "bptt = 256"
   ]
  },
  {
   "cell_type": "code",
   "execution_count": 3,
   "metadata": {},
   "outputs": [],
   "source": [
    "def load_data(path):\n",
    "    x = torch.load(path+'_x.pt')\n",
    "    y = torch.load(path+'_y.pt')\n",
    "    lens = torch.load(path+'_lens.pt')\n",
    "\n",
    "    idx = torch.cat([torch.tensor([0]), torch.cumsum(lens, 0)])\n",
    "\n",
    "    y = [y[idx[i]:idx[i+1]].to(device) for i in range(len(idx)-1)]\n",
    "\n",
    "    return x.to(device), y"
   ]
  },
  {
   "cell_type": "code",
   "execution_count": 4,
   "metadata": {},
   "outputs": [],
   "source": [
    "X_train, Y_train = load_data(\"data/preprocessed/100k/train\")\n",
    "X_valid, Y_valid = load_data(\"data/preprocessed/100k/valid\")\n",
    "X_test, Y_test = load_data(\"data/preprocessed/100k/test\")"
   ]
  },
  {
   "cell_type": "code",
   "execution_count": 5,
   "metadata": {},
   "outputs": [],
   "source": [
    "bs = 32\n",
    "\n",
    "# Precompute Y_batches given bs\n",
    "Y_batches = []\n",
    "for i in range(0, len(Y_train), bs):\n",
    "    Y_batches.append(torch.cat(Y_train[i:i+bs], axis=0))"
   ]
  },
  {
   "cell_type": "code",
   "execution_count": 6,
   "metadata": {},
   "outputs": [],
   "source": [
    "class PositionalEncoding(nn.Module):\n",
    "\n",
    "    def __init__(self, d_model: int, dropout: float = 0.1, max_len: int = 5000):\n",
    "        super().__init__()\n",
    "        self.dropout = nn.Dropout(p=dropout)\n",
    "\n",
    "        position = torch.arange(max_len).unsqueeze(1)\n",
    "        div_term = torch.exp(torch.arange(0, d_model, 2) * (-math.log(10000.0) / d_model))\n",
    "        pe = torch.zeros(max_len, 1, d_model)\n",
    "        pe[:, 0, 0::2] = torch.sin(position * div_term)\n",
    "        pe[:, 0, 1::2] = torch.cos(position * div_term)\n",
    "        self.register_buffer('pe', pe)\n",
    "\n",
    "    def forward(self, x: Tensor) -> Tensor:\n",
    "        \"\"\"\n",
    "        Arguments:\n",
    "            x: Tensor, shape ``[seq_len, batch_size, embedding_dim]``\n",
    "        \"\"\"\n",
    "        x = x + self.pe[:x.size(0)]\n",
    "        return self.dropout(x)"
   ]
  },
  {
   "cell_type": "code",
   "execution_count": 7,
   "metadata": {},
   "outputs": [],
   "source": [
    "class TransformerModel(nn.Module):\n",
    "\n",
    "    def __init__(self, ntoken: int, d_model: int, nhead: int, d_hid: int,\n",
    "                 nlayers: int, dropout: float = 0.5):\n",
    "        super().__init__()\n",
    "        self.model_type = 'Transformer'\n",
    "        self.pos_encoder = PositionalEncoding(d_model, dropout)\n",
    "        encoder_layers = TransformerEncoderLayer(d_model, nhead, d_hid, dropout, activation=nn.LeakyReLU())\n",
    "        self.transformer_encoder = TransformerEncoder(encoder_layers, nlayers)\n",
    "        self.embedding = nn.Embedding(ntoken, d_model)\n",
    "        self.d_model = d_model\n",
    "        self.head = nn.Linear(d_model, 8*8*13)\n",
    "\n",
    "        self.init_weights()\n",
    "\n",
    "    def init_weights(self) -> None:\n",
    "        initrange = 0.1\n",
    "        self.embedding.weight.data.uniform_(-initrange, initrange)\n",
    "        # self.linear.bias.data.zero_()\n",
    "        # self.linear.weight.data.uniform_(-initrange, initrange)\n",
    "\n",
    "    def forward(self, src: Tensor, src_mask: Tensor = None) -> Tensor:\n",
    "        \"\"\"\n",
    "        Arguments:\n",
    "            src: Tensor, shape ``[seq_len, batch_size]``\n",
    "            src_mask: Tensor, shape ``[seq_len, seq_len]``\n",
    "\n",
    "        Returns:\n",
    "            output Tensor of shape ``[seq_len, batch_size, ntoken]``\n",
    "        \"\"\"\n",
    "        src = self.embedding(src) * math.sqrt(self.d_model)\n",
    "        src = self.pos_encoder(src)\n",
    "        if src_mask is None:\n",
    "            \"\"\"Generate a square causal mask for the sequence. The masked positions are filled with float('-inf').\n",
    "            Unmasked positions are filled with float(0.0).\n",
    "            \"\"\"\n",
    "            src_mask = nn.Transformer.generate_square_subsequent_mask(len(src)).to(device)\n",
    "\n",
    "        output = self.transformer_encoder(src, src_mask)\n",
    "\n",
    "        output = self.head(output)\n",
    "        return output.reshape(*output.shape[:-1], 8, 8, 13)"
   ]
  },
  {
   "cell_type": "code",
   "execution_count": 8,
   "metadata": {},
   "outputs": [],
   "source": [
    "with open(\"data/preprocessed/100k/vocab.pkl\", \"rb\") as f:\n",
    "    vocab, itos, stoi = pickle.load(f)"
   ]
  },
  {
   "cell_type": "code",
   "execution_count": 9,
   "metadata": {},
   "outputs": [],
   "source": [
    "ntokens = len(vocab)  # size of vocabulary\n",
    "emsize = 256  # embedding dimension\n",
    "d_hid = 256  # dimension of the feedforward network model in ``nn.TransformerEncoder``\n",
    "nlayers = 4  # number of ``nn.TransformerEncoderLayer`` in ``nn.TransformerEncoder``\n",
    "nhead = 4  # number of heads in ``nn.MultiheadAttention``\n",
    "dropout = 0.  # dropout probability\n",
    "model = TransformerModel(ntokens, emsize, nhead, d_hid, nlayers, dropout).to(device)"
   ]
  },
  {
   "cell_type": "code",
   "execution_count": 10,
   "metadata": {},
   "outputs": [
    {
     "name": "stdout",
     "output_type": "stream",
     "text": [
      "tensor(1804864)\n"
     ]
    }
   ],
   "source": [
    "print(sum(torch.prod(torch.tensor(p.shape)) for p in model.parameters()))"
   ]
  },
  {
   "cell_type": "code",
   "execution_count": 11,
   "metadata": {},
   "outputs": [],
   "source": [
    "criterion = nn.CrossEntropyLoss()\n",
    "\n",
    "# ONLY WAY I COULD GET IT TO WORK WAS FREEZING TRANSFORMER \n",
    "# AND ONLY TRAINING LAST LAYER AND THEN UNFREEZING WHOLE MODEL\n",
    "\n",
    "# scheduler = torch.optim.lr_scheduler.StepLR(optimizer, 1.0, gamma=0.95)"
   ]
  },
  {
   "cell_type": "code",
   "execution_count": 12,
   "metadata": {},
   "outputs": [
    {
     "name": "stdout",
     "output_type": "stream",
     "text": [
      "4\n"
     ]
    }
   ],
   "source": [
    "print(stoi[\" \"])"
   ]
  },
  {
   "cell_type": "code",
   "execution_count": 13,
   "metadata": {},
   "outputs": [
    {
     "name": "stdout",
     "output_type": "stream",
     "text": [
      "tensor([27, 10, 23, 14,  4, 23, 12,  4,  3, 10, 30, 14,  4,  2, 12,  4, 20, 10,\n",
      "        11,  9,  4, 19,  2, 13,  4,  9, 10, 24, 28,  9,  4, 24, 15, 12,  4, 14,\n",
      "        10, 19,  0, 15, 12,  4,  8,  0, 15, 12,  4, 22, 10, 19, 23, 20,  4, 25,\n",
      "         8, 22,  4, 12, 10, 19,  8, 14,  4, 15, 22,  4, 13, 10, 24,  6,  9,  4,\n",
      "        25,  8, 12,  4, 26, 10, 24, 15, 14,  4, 25,  8, 22,  4,  1, 10, 19,  0,\n",
      "        15, 22,  4, 25,  0, 15, 14,  4,  3, 27, 10, 25,  6,  9,  4,  5, 30, 26,\n",
      "         4,  3,  3, 10, 25,  0,  6, 13,  4, 24, 28, 12,  4,  3, 20, 10, 25, 23,\n",
      "        26, 18,  4, 10, 10, 10, 10, 10, 10, 10, 10, 10, 10, 10, 10, 10, 10, 10,\n",
      "        10, 10, 10, 10, 10, 10, 10, 10, 10, 10, 10, 10, 10, 10, 10, 10, 10, 10,\n",
      "        10, 10, 10, 10, 10, 10, 10, 10, 10, 10, 10, 10, 10, 10, 10, 10, 10, 10,\n",
      "        10, 10, 10, 10, 10, 10, 10, 10, 10, 10, 10, 10, 10, 10, 10, 10, 10, 10,\n",
      "        10, 10, 10, 10, 10, 10, 10, 10, 10, 10, 10, 10, 10, 10, 10, 10, 10, 10,\n",
      "        10, 10, 10, 10, 10, 10, 10, 10, 10, 10, 10, 10, 10, 10, 10, 10, 10, 10,\n",
      "        10, 10, 10, 10, 10, 10, 10, 10, 10, 10, 10, 10, 10, 10, 10, 10, 10, 10,\n",
      "        10, 10, 10, 10], device='cuda:0')\n"
     ]
    }
   ],
   "source": [
    "print(X_train[0])"
   ]
  },
  {
   "cell_type": "code",
   "execution_count": 14,
   "metadata": {},
   "outputs": [],
   "source": [
    "def train(model: nn.Module, optimizer, verbose=True):\n",
    "    log = []\n",
    "\n",
    "    total_loss = 0.\n",
    "    total_p_acc = 0.\n",
    "    total_b_acc = 0.\n",
    "    start_time = time.time()\n",
    "\n",
    "    for i in range(0, len(X_train), bs):\n",
    "        batch = i//bs+1\n",
    "\n",
    "        X_batch = X_train[i:i+bs]\n",
    "        spaces = torch.where(X_batch == stoi[\" \"])\n",
    "        \n",
    "        Y_batch = Y_batches[i//bs]\n",
    "        \n",
    "        # Fucking kill me.  Torch expects bptt dim first instead of batch\n",
    "        output = torch.swapaxes(model(X_batch.T), 0, 1)\n",
    "\n",
    "        y_pred = output[spaces[0], spaces[1]]\n",
    "\n",
    "        # print(y_pred.shape, Y_batch.shape)\n",
    "        # assert False\n",
    "\n",
    "        loss = criterion(y_pred.view(-1, 13), Y_batch.view(-1))\n",
    "\n",
    "        equal = (y_pred.argmax(-1) == Y_batch)\n",
    "\n",
    "        piece_acc = equal.float().mean().item()\n",
    "        board_acc = equal.all(-1).all(-1).float().mean().item()\n",
    "\n",
    "\n",
    "        optimizer.zero_grad()\n",
    "        loss.backward()\n",
    "        torch.nn.utils.clip_grad_norm_(model.parameters(), 0.5)\n",
    "        optimizer.step()\n",
    "\n",
    "        total_loss += loss.item()\n",
    "        total_p_acc += piece_acc\n",
    "        total_b_acc += board_acc\n",
    "\n",
    "        ms_per_batch = (time.time() - start_time) * 1000 / batch\n",
    "        cur_loss = total_loss / batch\n",
    "        cur_p_acc = total_p_acc / batch\n",
    "        cur_b_acc = total_b_acc / batch\n",
    "\n",
    "        if verbose:\n",
    "            print(f'| {batch:5d}/{len(X_train)//bs+1:5d} batches | '\n",
    "                    f'ms/batch {ms_per_batch:5.2f} | '\n",
    "                    f'loss {cur_loss:5.2f} | piece acc {cur_p_acc:5.2f} | board acc {cur_b_acc:5.2f} ', end=\"\\r\")\n",
    "        \n",
    "        log.append({\"loss\":loss.item(), \"piece_acc\":piece_acc, \"board_acc\":board_acc})\n",
    "\n",
    "    if verbose:\n",
    "        print()\n",
    "\n",
    "    return log"
   ]
  },
  {
   "cell_type": "code",
   "execution_count": null,
   "metadata": {},
   "outputs": [],
   "source": [
    "# Optimization schedule:\n",
    "# Train head with lr=1e-2 for 1 epcoh\n",
    "# Train full model with lr=1e-3 for ~7 epcoh\n",
    "# Train full model with lr=1e-4 for 2 epcoh"
   ]
  },
  {
   "cell_type": "code",
   "execution_count": 102,
   "metadata": {},
   "outputs": [
    {
     "name": "stdout",
     "output_type": "stream",
     "text": [
      "|  2844/ 2844 batches | ms/batch 35.32 | loss  0.00 | piece acc  1.00 | board acc  0.96  \n",
      "|  2844/ 2844 batches | ms/batch 35.58 | loss  0.00 | piece acc  1.00 | board acc  0.98 \n",
      "|    83/ 2844 batches | ms/batch 35.53 | loss  0.00 | piece acc  1.00 | board acc  0.98 \r"
     ]
    },
    {
     "ename": "KeyboardInterrupt",
     "evalue": "",
     "output_type": "error",
     "traceback": [
      "\u001b[1;31m---------------------------------------------------------------------------\u001b[0m",
      "\u001b[1;31mKeyboardInterrupt\u001b[0m                         Traceback (most recent call last)",
      "Cell \u001b[1;32mIn[102], line 18\u001b[0m\n\u001b[0;32m     11\u001b[0m optimizer \u001b[38;5;241m=\u001b[39m torch\u001b[38;5;241m.\u001b[39moptim\u001b[38;5;241m.\u001b[39mAdam(model\u001b[38;5;241m.\u001b[39mparameters(), lr\u001b[38;5;241m=\u001b[39m\u001b[38;5;241m1e-4\u001b[39m)\n\u001b[0;32m     13\u001b[0m \u001b[38;5;28;01mfor\u001b[39;00m e \u001b[38;5;129;01min\u001b[39;00m bar:\n\u001b[0;32m     14\u001b[0m     \u001b[38;5;66;03m# After first epoch switch to full model\u001b[39;00m\n\u001b[0;32m     15\u001b[0m     \u001b[38;5;66;03m# if e == 1:\u001b[39;00m\n\u001b[0;32m     16\u001b[0m     \u001b[38;5;66;03m#     optimizer = torch.optim.Adam(model.parameters(), lr=1e-3)\u001b[39;00m\n\u001b[1;32m---> 18\u001b[0m     l \u001b[38;5;241m=\u001b[39m \u001b[43mtrain\u001b[49m\u001b[43m(\u001b[49m\u001b[43mmodel\u001b[49m\u001b[43m,\u001b[49m\u001b[43m \u001b[49m\u001b[43mverbose\u001b[49m\u001b[38;5;241;43m=\u001b[39;49m\u001b[38;5;28;43;01mTrue\u001b[39;49;00m\u001b[43m)\u001b[49m\n\u001b[0;32m     19\u001b[0m     log \u001b[38;5;241m=\u001b[39m log \u001b[38;5;241m+\u001b[39m l\n\u001b[0;32m     22\u001b[0m     \u001b[38;5;66;03m# bar.set_postfix(l[-1])\u001b[39;00m\n",
      "Cell \u001b[1;32mIn[14], line 34\u001b[0m, in \u001b[0;36mtrain\u001b[1;34m(model, verbose)\u001b[0m\n\u001b[0;32m     30\u001b[0m board_acc \u001b[38;5;241m=\u001b[39m equal\u001b[38;5;241m.\u001b[39mall(\u001b[38;5;241m-\u001b[39m\u001b[38;5;241m1\u001b[39m)\u001b[38;5;241m.\u001b[39mall(\u001b[38;5;241m-\u001b[39m\u001b[38;5;241m1\u001b[39m)\u001b[38;5;241m.\u001b[39mfloat()\u001b[38;5;241m.\u001b[39mmean()\u001b[38;5;241m.\u001b[39mitem()\n\u001b[0;32m     33\u001b[0m optimizer\u001b[38;5;241m.\u001b[39mzero_grad()\n\u001b[1;32m---> 34\u001b[0m \u001b[43mloss\u001b[49m\u001b[38;5;241;43m.\u001b[39;49m\u001b[43mbackward\u001b[49m\u001b[43m(\u001b[49m\u001b[43m)\u001b[49m\n\u001b[0;32m     35\u001b[0m torch\u001b[38;5;241m.\u001b[39mnn\u001b[38;5;241m.\u001b[39mutils\u001b[38;5;241m.\u001b[39mclip_grad_norm_(model\u001b[38;5;241m.\u001b[39mparameters(), \u001b[38;5;241m0.5\u001b[39m)\n\u001b[0;32m     36\u001b[0m optimizer\u001b[38;5;241m.\u001b[39mstep()\n",
      "File \u001b[1;32mc:\\Users\\bunna\\AppData\\Local\\Programs\\Python\\Python39\\lib\\site-packages\\torch\\_tensor.py:487\u001b[0m, in \u001b[0;36mTensor.backward\u001b[1;34m(self, gradient, retain_graph, create_graph, inputs)\u001b[0m\n\u001b[0;32m    477\u001b[0m \u001b[38;5;28;01mif\u001b[39;00m has_torch_function_unary(\u001b[38;5;28mself\u001b[39m):\n\u001b[0;32m    478\u001b[0m     \u001b[38;5;28;01mreturn\u001b[39;00m handle_torch_function(\n\u001b[0;32m    479\u001b[0m         Tensor\u001b[38;5;241m.\u001b[39mbackward,\n\u001b[0;32m    480\u001b[0m         (\u001b[38;5;28mself\u001b[39m,),\n\u001b[1;32m   (...)\u001b[0m\n\u001b[0;32m    485\u001b[0m         inputs\u001b[38;5;241m=\u001b[39minputs,\n\u001b[0;32m    486\u001b[0m     )\n\u001b[1;32m--> 487\u001b[0m \u001b[43mtorch\u001b[49m\u001b[38;5;241;43m.\u001b[39;49m\u001b[43mautograd\u001b[49m\u001b[38;5;241;43m.\u001b[39;49m\u001b[43mbackward\u001b[49m\u001b[43m(\u001b[49m\n\u001b[0;32m    488\u001b[0m \u001b[43m    \u001b[49m\u001b[38;5;28;43mself\u001b[39;49m\u001b[43m,\u001b[49m\u001b[43m \u001b[49m\u001b[43mgradient\u001b[49m\u001b[43m,\u001b[49m\u001b[43m \u001b[49m\u001b[43mretain_graph\u001b[49m\u001b[43m,\u001b[49m\u001b[43m \u001b[49m\u001b[43mcreate_graph\u001b[49m\u001b[43m,\u001b[49m\u001b[43m \u001b[49m\u001b[43minputs\u001b[49m\u001b[38;5;241;43m=\u001b[39;49m\u001b[43minputs\u001b[49m\n\u001b[0;32m    489\u001b[0m \u001b[43m\u001b[49m\u001b[43m)\u001b[49m\n",
      "File \u001b[1;32mc:\\Users\\bunna\\AppData\\Local\\Programs\\Python\\Python39\\lib\\site-packages\\torch\\autograd\\__init__.py:200\u001b[0m, in \u001b[0;36mbackward\u001b[1;34m(tensors, grad_tensors, retain_graph, create_graph, grad_variables, inputs)\u001b[0m\n\u001b[0;32m    195\u001b[0m     retain_graph \u001b[38;5;241m=\u001b[39m create_graph\n\u001b[0;32m    197\u001b[0m \u001b[38;5;66;03m# The reason we repeat same the comment below is that\u001b[39;00m\n\u001b[0;32m    198\u001b[0m \u001b[38;5;66;03m# some Python versions print out the first line of a multi-line function\u001b[39;00m\n\u001b[0;32m    199\u001b[0m \u001b[38;5;66;03m# calls in the traceback and some print out the last line\u001b[39;00m\n\u001b[1;32m--> 200\u001b[0m \u001b[43mVariable\u001b[49m\u001b[38;5;241;43m.\u001b[39;49m\u001b[43m_execution_engine\u001b[49m\u001b[38;5;241;43m.\u001b[39;49m\u001b[43mrun_backward\u001b[49m\u001b[43m(\u001b[49m\u001b[43m  \u001b[49m\u001b[38;5;66;43;03m# Calls into the C++ engine to run the backward pass\u001b[39;49;00m\n\u001b[0;32m    201\u001b[0m \u001b[43m    \u001b[49m\u001b[43mtensors\u001b[49m\u001b[43m,\u001b[49m\u001b[43m \u001b[49m\u001b[43mgrad_tensors_\u001b[49m\u001b[43m,\u001b[49m\u001b[43m \u001b[49m\u001b[43mretain_graph\u001b[49m\u001b[43m,\u001b[49m\u001b[43m \u001b[49m\u001b[43mcreate_graph\u001b[49m\u001b[43m,\u001b[49m\u001b[43m \u001b[49m\u001b[43minputs\u001b[49m\u001b[43m,\u001b[49m\n\u001b[0;32m    202\u001b[0m \u001b[43m    \u001b[49m\u001b[43mallow_unreachable\u001b[49m\u001b[38;5;241;43m=\u001b[39;49m\u001b[38;5;28;43;01mTrue\u001b[39;49;00m\u001b[43m,\u001b[49m\u001b[43m \u001b[49m\u001b[43maccumulate_grad\u001b[49m\u001b[38;5;241;43m=\u001b[39;49m\u001b[38;5;28;43;01mTrue\u001b[39;49;00m\u001b[43m)\u001b[49m\n",
      "\u001b[1;31mKeyboardInterrupt\u001b[0m: "
     ]
    }
   ],
   "source": [
    "epochs = 1_000\n",
    "model.train()  # turn on train mode\n",
    "\n",
    "# bar = tqdm(range(epochs))\n",
    "bar = range(epochs)\n",
    "\n",
    "log = []\n",
    "\n",
    "# optimizer = torch.optim.Adam(model.head.parameters(), lr=1e-2)\n",
    "\n",
    "optimizer = torch.optim.Adam(model.parameters(), lr=1e-4)\n",
    "\n",
    "for e in bar:\n",
    "    # After first epoch switch to full model\n",
    "    # if e == 1:\n",
    "    #     optimizer = torch.optim.Adam(model.parameters(), lr=1e-3)\n",
    "    \n",
    "    l = train(model, verbose=True)\n",
    "    log = log + l\n",
    "\n",
    "\n",
    "    # bar.set_postfix(l[-1])"
   ]
  },
  {
   "cell_type": "code",
   "execution_count": 103,
   "metadata": {},
   "outputs": [],
   "source": [
    "# Precompute Y_batches given bs\n",
    "Y_batches_val = []\n",
    "for i in range(0, len(Y_valid), bs):\n",
    "    Y_batches_val.append(torch.cat(Y_valid[i:i+bs], axis=0))"
   ]
  },
  {
   "cell_type": "code",
   "execution_count": 104,
   "metadata": {},
   "outputs": [],
   "source": [
    "@torch.no_grad()\n",
    "def valid(model: nn.Module, verbose=True):\n",
    "\n",
    "    total_loss = 0.\n",
    "    total_p_acc = 0.\n",
    "    total_b_acc = 0.\n",
    "    start_time = time.time()\n",
    "    \n",
    "    scores = []\n",
    "\n",
    "    for i in range(0, len(X_valid), bs):\n",
    "        batch = i//bs+1\n",
    "\n",
    "        X_batch = X_valid[i:i+bs]\n",
    "        spaces = torch.where(X_batch == stoi[\" \"])\n",
    "        \n",
    "        Y_batch = Y_batches_val[i//bs]\n",
    "        \n",
    "        # Fucking kill me.  Torch expects bptt dim first instead of batch\n",
    "        output = torch.swapaxes(model(X_batch.T), 0, 1)\n",
    "\n",
    "        y_pred = output[spaces[0], spaces[1]]\n",
    "        \n",
    "        scores.append(y_pred)\n",
    "\n",
    "        loss = criterion(y_pred.view(-1, 13), Y_batch.view(-1))\n",
    "\n",
    "        equal = (y_pred.argmax(-1) == Y_batch)\n",
    "\n",
    "        piece_acc = equal.float().mean().item()\n",
    "        board_acc = equal.all(-1).all(-1).float().mean().item()\n",
    "\n",
    "        total_loss += loss.item()\n",
    "        total_p_acc += piece_acc\n",
    "        total_b_acc += board_acc\n",
    "\n",
    "        ms_per_batch = (time.time() - start_time) * 1000 / batch\n",
    "        cur_loss = total_loss / batch\n",
    "        cur_p_acc = total_p_acc / batch\n",
    "        cur_b_acc = total_b_acc / batch\n",
    "\n",
    "        if verbose:\n",
    "            print(f'| {batch:5d}/{len(X_valid)//bs+1:5d} batches | '\n",
    "                    f'ms/batch {ms_per_batch:5.2f} | '\n",
    "                    f'loss {cur_loss:5.2f} | piece acc {cur_p_acc:5.2f} | board acc {cur_b_acc:5.2f} ', end=\"\\r\")\n",
    "\n",
    "    if verbose:\n",
    "        print()\n",
    "\n",
    "    return scores, cur_p_acc, cur_b_acc"
   ]
  },
  {
   "cell_type": "code",
   "execution_count": 105,
   "metadata": {},
   "outputs": [
    {
     "name": "stdout",
     "output_type": "stream",
     "text": [
      "|   474/  474 batches | ms/batch  8.09 | loss  0.00 | piece acc  1.00 | board acc  0.95  \n"
     ]
    }
   ],
   "source": [
    "scores, p_acc, b_acc = valid(model)"
   ]
  },
  {
   "cell_type": "code",
   "execution_count": 106,
   "metadata": {},
   "outputs": [
    {
     "name": "stdout",
     "output_type": "stream",
     "text": [
      "0.9991431414829528 0.954306012467493\n"
     ]
    }
   ],
   "source": [
    "print(p_acc, b_acc)"
   ]
  },
  {
   "cell_type": "code",
   "execution_count": 107,
   "metadata": {},
   "outputs": [
    {
     "name": "stdout",
     "output_type": "stream",
     "text": [
      "torch.Size([1418, 8, 8, 13])\n",
      "torch.Size([1418, 8, 8])\n"
     ]
    }
   ],
   "source": [
    "print(scores[0].shape)\n",
    "print(Y_batches_val[0].shape)"
   ]
  },
  {
   "cell_type": "code",
   "execution_count": 108,
   "metadata": {},
   "outputs": [
    {
     "name": "stdout",
     "output_type": "stream",
     "text": [
      "42.85260277585468\n"
     ]
    }
   ],
   "source": [
    "print(np.mean([len(y) for y in Y_train]))"
   ]
  },
  {
   "cell_type": "code",
   "execution_count": 109,
   "metadata": {},
   "outputs": [
    {
     "name": "stderr",
     "output_type": "stream",
     "text": [
      "  0%|          | 0/15166 [00:00<?, ?it/s]"
     ]
    },
    {
     "name": "stderr",
     "output_type": "stream",
     "text": [
      "100%|██████████| 15166/15166 [01:18<00:00, 193.80it/s]\n"
     ]
    }
   ],
   "source": [
    "max_len = max(len(y) for y in Y_valid)\n",
    "\n",
    "piece_accs = torch.zeros(max_len)\n",
    "board_accs = torch.zeros(max_len)\n",
    "\n",
    "n = torch.zeros(max_len)\n",
    "\n",
    "earliest_mistake = [-1, 256]\n",
    "\n",
    "with torch.no_grad():\n",
    "    for i in tqdm(range(len(X_valid))):\n",
    "        x = X_valid[i:i+1]\n",
    "        y = Y_valid[i]\n",
    "\n",
    "        spaces = torch.where(x == stoi[\" \"])\n",
    "        \n",
    "        # Fucking kill me.  Torch expects bptt dim first instead of batch\n",
    "        output = torch.swapaxes(model(x.T), 0, 1)\n",
    "\n",
    "        y_pred = output[spaces]\n",
    "\n",
    "        loss = criterion(y_pred.view(-1, 13), y.view(-1))\n",
    "        equal = (y_pred.argmax(-1) == y).cpu()\n",
    "\n",
    "        for j, correct in enumerate(equal.all(-1).all(-1)):\n",
    "            if not correct:\n",
    "                if j < earliest_mistake[1]:\n",
    "                    earliest_mistake = [i, j]\n",
    "\n",
    "        moves = y.shape[0]\n",
    "        n[:moves] += 1\n",
    "\n",
    "        piece_accs[:moves] += equal.float().mean(-1).mean(-1)\n",
    "        board_accs[:moves] += equal.all(-1).all(-1).float()\n",
    "\n",
    "piece_accs /= n\n",
    "board_accs /= n"
   ]
  },
  {
   "cell_type": "code",
   "execution_count": 110,
   "metadata": {},
   "outputs": [
    {
     "name": "stdout",
     "output_type": "stream",
     "text": [
      "[10618, 8]\n"
     ]
    }
   ],
   "source": [
    "print(earliest_mistake)"
   ]
  },
  {
   "cell_type": "code",
   "execution_count": 111,
   "metadata": {},
   "outputs": [
    {
     "data": {
      "image/png": "[encoded data removed]",
      "text/plain": [
       "<Figure size 640x480 with 1 Axes>"
      ]
     },
     "metadata": {},
     "output_type": "display_data"
    },
    {
     "data": {
      "image/png": "[encoded data removed]",
      "text/plain": [
       "<Figure size 640x480 with 1 Axes>"
      ]
     },
     "metadata": {},
     "output_type": "display_data"
    }
   ],
   "source": [
    "plt.title(\"Piece Accuracy across game\")\n",
    "plt.plot(piece_accs)\n",
    "plt.xlabel(\"Move\")\n",
    "plt.ylabel(\"% Correct\")\n",
    "plt.show()\n",
    "\n",
    "plt.title(\"Board Accuracy across game\")\n",
    "plt.plot(board_accs)\n",
    "plt.xlabel(\"Move\")\n",
    "plt.ylabel(\"% Correct\")\n",
    "plt.show()"
   ]
  },
  {
   "cell_type": "code",
   "execution_count": null,
   "metadata": {},
   "outputs": [],
   "source": []
  },
  {
   "cell_type": "code",
   "execution_count": 112,
   "metadata": {},
   "outputs": [],
   "source": [
    "def char_encode(inp):\n",
    "    if isinstance(inp, str):\n",
    "        return torch.tensor([stoi[c] for c in inp])\n",
    "    else:\n",
    "        return [char_encode(line) for line in inp]"
   ]
  },
  {
   "cell_type": "code",
   "execution_count": 113,
   "metadata": {},
   "outputs": [],
   "source": [
    "# example = \"0.e4 e6 1.d4 b6 2.a3 Bb7 3.Nc3 Nh6 4.Bxh6 gxh6 5.Be2 Qg5 6.Bg4 h5 7.Nf3 Qg6 8.Nh4 Qg5 9.Bxh5 Qxh4 10.Qf3 Kd8 11.Qxf7 Nc6 12.Qe8# \"\n",
    "# Messes up here\n",
    "example = \"0.e3 b5 1.Bc4 a6 2.Bf1 \"# Nh6 \"\n",
    "# example = \"0.e3 b5 1.Bc4 a6 2.Kf1 Nh6 3.Ke1 Nf5 4.Bf1 \""
   ]
  },
  {
   "cell_type": "code",
   "execution_count": 114,
   "metadata": {},
   "outputs": [],
   "source": [
    "inp = char_encode(example).unsqueeze(0).to(device)\n",
    "\n",
    "# Earliest mistake at move 5 (idx 4)\n",
    "# inp = X_valid[10460].unsqueeze(0)\n",
    "\n",
    "output = torch.swapaxes(model(inp.T), 0, 1)\n",
    "\n",
    "spaces = torch.where(inp == stoi[\" \"])\n",
    "y_pred = output[spaces]\n",
    "\n",
    "b = y_pred.argmax(-1)"
   ]
  },
  {
   "cell_type": "code",
   "execution_count": 115,
   "metadata": {},
   "outputs": [],
   "source": [
    "piece_dict = {\n",
    "    '.': 0, 'p': 1, 'n': 2, 'b': 3, 'k': 4, 'r': 5, 'q': 6, 'P': 7, 'N': 8, 'B': 9, 'K': 10, 'R': 11, 'Q': 12\n",
    "}\n",
    "\n",
    "dict_piece = {v:k for k, v in piece_dict.items()}\n",
    "\n",
    "def tensor_to_ascii(tensor):\n",
    "    arr = tensor.tolist()\n",
    "    return \"\\n\".join([\" \".join([dict_piece[p] for p in row]) for row in arr])"
   ]
  },
  {
   "cell_type": "code",
   "execution_count": 116,
   "metadata": {},
   "outputs": [
    {
     "name": "stdout",
     "output_type": "stream",
     "text": [
      "0.e4 c6 1.Bc4 d5 2.Bf1 dxe4 3.d4 exd3 4.cxd3 Nf6 5.Nc3 Bf5 6.g4 Bxg4 7.f3 Bh5 8.Qb3 Qb6 9.Bf4 Qxb3 10.axb3 Nbd7 11.Nd5 Nxd5 12.Nh3 e6 13.Rd1 Bb4+ 14.Ke2 O-O 15.Ng5 Nxf4+ 16.Ke3 Nd5+ 17.Ke4 N7f6+ 18.Ke5 Rad8 19.Rd2 Bd6+ 20.Kd4 a6 21.Bh3 c5+ 22.Kc4 b5# .....\n"
     ]
    }
   ],
   "source": [
    "print(\"\".join([itos[c.item()] for c in X_valid[10460]]))"
   ]
  },
  {
   "cell_type": "code",
   "execution_count": 117,
   "metadata": {},
   "outputs": [
    {
     "name": "stdout",
     "output_type": "stream",
     "text": [
      "r n b q k b n r\n",
      "p p p p p p p p\n",
      ". . . . . . . .\n",
      ". . . . . . . .\n",
      ". . . . . . . .\n",
      ". . . . P . . .\n",
      "P P P P . P P P\n",
      "R N B Q K B N R\n",
      "\n",
      "r n b q k b n r\n",
      "p . p p p p p p\n",
      ". . . . . . . .\n",
      ". p . . . . . .\n",
      ". . . . . . . .\n",
      ". . . . P . . .\n",
      "P P P P . P P P\n",
      "R N B Q K B N R\n",
      "\n",
      "r n b q k b n r\n",
      "p . p p p p p p\n",
      ". . . . . . . .\n",
      ". p . . . . . .\n",
      ". . B . . . . .\n",
      ". . . . P . . .\n",
      "P P P P . P P P\n",
      "R N B Q K . N R\n",
      "\n",
      "r n b q k b n r\n",
      ". . p p p p p p\n",
      "p . . . . . . .\n",
      ". p . . . . . .\n",
      ". . B . . . . .\n",
      ". . . . P . . .\n",
      "P P P P . P P P\n",
      "R N B Q K . N R\n",
      "\n",
      "r n b q k b n r\n",
      ". . p p p p p p\n",
      "p . . . . . . .\n",
      ". p . . . . . .\n",
      ". . . . . . . .\n",
      ". . . . P . . .\n",
      "P P P P . P P P\n",
      "R N B Q K B N R\n",
      "\n"
     ]
    }
   ],
   "source": [
    "for i in b:\n",
    "    print(tensor_to_ascii(i))\n",
    "    print()"
   ]
  },
  {
   "cell_type": "code",
   "execution_count": 118,
   "metadata": {},
   "outputs": [
    {
     "data": {
      "text/plain": [
       "<BarContainer object of 13 artists>"
      ]
     },
     "execution_count": 118,
     "metadata": {},
     "output_type": "execute_result"
    },
    {
     "data": {
      "image/png": "[encoded data removed]",
      "text/plain": [
       "<Figure size 640x480 with 1 Axes>"
      ]
     },
     "metadata": {},
     "output_type": "display_data"
    }
   ],
   "source": [
    "plt.bar(piece_dict.keys(), y_pred[-1, -1, 5].cpu().detach())"
   ]
  },
  {
   "cell_type": "code",
   "execution_count": null,
   "metadata": {},
   "outputs": [],
   "source": []
  },
  {
   "cell_type": "code",
   "execution_count": null,
   "metadata": {},
   "outputs": [],
   "source": []
  }
 ],
 "metadata": {
  "kernelspec": {
   "display_name": "Python 3",
   "language": "python",
   "name": "python3"
  },
  "language_info": {
   "codemirror_mode": {
    "name": "ipython",
    "version": 3
   },
   "file_extension": ".py",
   "mimetype": "text/x-python",
   "name": "python",
   "nbconvert_exporter": "python",
   "pygments_lexer": "ipython3",
   "version": "3.9.6"
  }
 },
 "nbformat": 4,
 "nbformat_minor": 2
}
