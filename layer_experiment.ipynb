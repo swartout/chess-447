{
 "cells": [
  {
   "cell_type": "code",
   "execution_count": 63,
   "metadata": {},
   "outputs": [],
   "source": [
    "from transformers import GPT2Config, GPT2LMHeadModel\n",
    "import pickle\n",
    "import torch\n",
    "import torch.nn as nn\n",
    "import time\n",
    "import matplotlib.pyplot as plt\n",
    "import numpy as np\n",
    "from tqdm.autonotebook import tqdm\n",
    "\n",
    "device = torch.device('cuda' if torch.cuda.is_available() else 'cpu')"
   ]
  },
  {
   "cell_type": "code",
   "execution_count": 2,
   "metadata": {},
   "outputs": [],
   "source": [
    "with open(\"data/preprocessed/100k/vocab.pkl\", \"rb\") as f:\n",
    "    vocab, itos, stoi = pickle.load(f)\n",
    "\n",
    "space_idx = stoi[\" \"]"
   ]
  },
  {
   "cell_type": "code",
   "execution_count": 3,
   "metadata": {},
   "outputs": [],
   "source": [
    "# Comes from data preprocessing\n",
    "bptt = 256\n",
    "def load_data(path):\n",
    "    x = torch.load(path+'_x.pt')\n",
    "    y = torch.load(path+'_y.pt')\n",
    "    lens = torch.load(path+'_lens.pt')\n",
    "\n",
    "    idx = torch.cat([torch.tensor([0]), torch.cumsum(lens, 0)])\n",
    "\n",
    "    y = [y[idx[i]:idx[i+1]].to(device) for i in range(len(idx)-1)]\n",
    "\n",
    "    return x.to(device), y\n",
    "\n",
    "X_train, Y_train = load_data(\"data/preprocessed/100k/train\")\n",
    "X_valid, Y_valid = load_data(\"data/preprocessed/100k/valid\")\n",
    "X_test, Y_test = load_data(\"data/preprocessed/100k/test\")\n",
    "\n",
    "bs = 32\n",
    "\n",
    "# Precompute Y_batches given bs\n",
    "Y_batches = []\n",
    "for i in range(0, len(Y_train), bs):\n",
    "    Y_batches.append(torch.cat(Y_train[i:i+bs], axis=0))\n",
    "\n",
    "Y_val_batches = []\n",
    "for i in range(0, len(Y_valid), bs):\n",
    "    Y_val_batches.append(torch.cat(Y_valid[i:i+bs], axis=0))"
   ]
  },
  {
   "cell_type": "code",
   "execution_count": 58,
   "metadata": {},
   "outputs": [],
   "source": [
    "def train(model, optimizer, verbose=True, log=[]):\n",
    "\n",
    "    criterion = nn.CrossEntropyLoss()\n",
    "\n",
    "    total_loss = 0.\n",
    "    total_p_acc = 0.\n",
    "    total_b_acc = 0.\n",
    "    start_time = time.time()\n",
    "\n",
    "    for i in range(0, len(X_train), bs):\n",
    "        batch = i//bs+1\n",
    "\n",
    "        X_batch = X_train[i:i+bs]\n",
    "        spaces = torch.where(X_batch == stoi[\" \"])\n",
    "        \n",
    "        Y_batch = Y_batches[i//bs]\n",
    "        \n",
    "        # Fucking kill me.  Torch expects bptt dim first instead of batch\n",
    "        output = model(X_batch).logits.view(-1, bptt, 8, 8, 13)\n",
    "\n",
    "        y_pred = output[spaces[0], spaces[1]]\n",
    "\n",
    "        loss = criterion(y_pred.view(-1, 13), Y_batch.view(-1))\n",
    "\n",
    "        equal = (y_pred.argmax(-1) == Y_batch)\n",
    "\n",
    "        piece_acc = equal.float().mean().item()\n",
    "        board_acc = equal.all(-1).all(-1).float().mean().item()\n",
    "\n",
    "\n",
    "        optimizer.zero_grad()\n",
    "        loss.backward()\n",
    "        torch.nn.utils.clip_grad_norm_(model.parameters(), 0.5)\n",
    "        optimizer.step()\n",
    "\n",
    "        total_loss += loss.item()\n",
    "        total_p_acc += piece_acc\n",
    "        total_b_acc += board_acc\n",
    "\n",
    "        ms_per_batch = (time.time() - start_time) * 1000 / batch\n",
    "        cur_loss = total_loss / batch\n",
    "        cur_p_acc = total_p_acc / batch\n",
    "        cur_b_acc = total_b_acc / batch\n",
    "\n",
    "        if verbose:\n",
    "            print(f'| {batch:5d}/{len(X_train)//bs+1:5d} batches | '\n",
    "                    f'ms/batch {ms_per_batch:5.2f} | '\n",
    "                    f'loss {cur_loss:5.2f} | piece acc {cur_p_acc:5.2f} | board acc {cur_b_acc:5.2f} ', end=\"\\r\")\n",
    "        \n",
    "        log.append({\"loss\":loss.item(), \"piece_acc\":piece_acc, \"board_acc\":board_acc})\n",
    "\n",
    "    if verbose:\n",
    "        print()\n",
    "\n",
    "    return log"
   ]
  },
  {
   "cell_type": "code",
   "execution_count": 66,
   "metadata": {},
   "outputs": [],
   "source": [
    "@torch.no_grad()\n",
    "def evaluate(model):\n",
    "    criterion = nn.CrossEntropyLoss()\n",
    "\n",
    "    val_losses = []\n",
    "    p_accs = []\n",
    "    b_accs = []\n",
    "\n",
    "    for i in range(0, len(X_valid), bs):\n",
    "        Y_batch = Y_val_batches[i//bs]\n",
    "        X_batch = X_valid[i:i+bs]\n",
    "        spaces = torch.where(X_batch == stoi[\" \"])\n",
    "        \n",
    "        output = model(X_batch).logits.view(-1, bptt, 8, 8, 13)\n",
    "\n",
    "        y_pred = output[spaces[0], spaces[1]]\n",
    "\n",
    "        loss = criterion(y_pred.view(-1, 13), Y_batch.view(-1)).item()\n",
    "\n",
    "        equal = (y_pred.argmax(-1) == Y_batch)\n",
    "\n",
    "        piece_acc = equal.float().mean().item()\n",
    "        board_acc = equal.all(-1).all(-1).float().mean().item()\n",
    "\n",
    "        p_accs.append(piece_acc)\n",
    "        b_accs.append(board_acc)\n",
    "        val_losses.append(loss)\n",
    "\n",
    "    return {\"val_loss\":np.mean(val_losses), \"val_piece_acc\":np.mean(p_accs), \"val_board_acc\":np.mean(b_accs)}"
   ]
  },
  {
   "cell_type": "code",
   "execution_count": 30,
   "metadata": {},
   "outputs": [],
   "source": [
    "def create_model(config, verbose=True):\n",
    "    model = GPT2LMHeadModel(config)\n",
    "    model.lm_head = nn.Linear(config.n_embd, 8*8*13)\n",
    "    if verbose:\n",
    "        print(f\"Parameter count: {sum(p.numel() for p in model.parameters())/1e6:.1f}M\")\n",
    "    return model.to(device)"
   ]
  },
  {
   "cell_type": "code",
   "execution_count": 67,
   "metadata": {},
   "outputs": [
    {
     "name": "stdout",
     "output_type": "stream",
     "text": [
      "Parameter count: 1.3M\n"
     ]
    },
    {
     "name": "stderr",
     "output_type": "stream",
     "text": [
      "  0%|          | 0/10 [00:00<?, ?it/s]"
     ]
    },
    {
     "name": "stderr",
     "output_type": "stream",
     "text": [
      "100%|██████████| 10/10 [07:55<00:00, 47.51s/it]\n"
     ]
    },
    {
     "name": "stdout",
     "output_type": "stream",
     "text": [
      "Parameter count: 2.1M\n"
     ]
    },
    {
     "name": "stderr",
     "output_type": "stream",
     "text": [
      "100%|██████████| 10/10 [13:08<00:00, 78.90s/it]\n"
     ]
    },
    {
     "name": "stdout",
     "output_type": "stream",
     "text": [
      "Parameter count: 2.9M\n"
     ]
    },
    {
     "name": "stderr",
     "output_type": "stream",
     "text": [
      "100%|██████████| 10/10 [16:55<00:00, 101.54s/it]\n"
     ]
    },
    {
     "name": "stdout",
     "output_type": "stream",
     "text": [
      "Parameter count: 3.6M\n"
     ]
    },
    {
     "name": "stderr",
     "output_type": "stream",
     "text": [
      "100%|██████████| 10/10 [21:20<00:00, 128.02s/it]\n"
     ]
    },
    {
     "name": "stdout",
     "output_type": "stream",
     "text": [
      "Parameter count: 4.4M\n"
     ]
    },
    {
     "name": "stderr",
     "output_type": "stream",
     "text": [
      "100%|██████████| 10/10 [26:00<00:00, 156.03s/it]\n"
     ]
    },
    {
     "name": "stdout",
     "output_type": "stream",
     "text": [
      "Parameter count: 5.2M\n"
     ]
    },
    {
     "name": "stderr",
     "output_type": "stream",
     "text": [
      "100%|██████████| 10/10 [30:54<00:00, 185.46s/it]\n"
     ]
    }
   ],
   "source": [
    "val_results = []\n",
    "\n",
    "for n_layer in range(1, 7):\n",
    "\n",
    "    config = GPT2Config(\n",
    "        vocab_size=len(vocab),\n",
    "        n_layer=n_layer,\n",
    "        n_head=4,\n",
    "        n_embd=256,\n",
    "        resid_pdrop=0,\n",
    "        embd_pdrop=0,\n",
    "        attn_pdrop=0,\n",
    "    )\n",
    "\n",
    "    model = create_model(config)\n",
    "\n",
    "    epochs = 10\n",
    "\n",
    "    optimizer = torch.optim.Adam(model.parameters(), lr=1e-3)\n",
    "\n",
    "    log = []\n",
    "\n",
    "    for epoch in tqdm(range(1, 1+epochs)):\n",
    "        log = train(model, optimizer, verbose=False, log=log)\n",
    "\n",
    "    model.save_pretrained(f\"models/{n_layer}_layer\")\n",
    "    with open(f\"models/{n_layer}_layer/log.pkl\", \"wb\") as f:\n",
    "        pickle.dump(log, f)\n",
    "\n",
    "    val_results.append(evaluate(model))\n",
    "\n",
    "with open(f\"val_results.pkl\", \"wb\") as f:\n",
    "    pickle.dump(val_results, f)"
   ]
  },
  {
   "cell_type": "code",
   "execution_count": 68,
   "metadata": {},
   "outputs": [
    {
     "name": "stdout",
     "output_type": "stream",
     "text": [
      "[{'val_loss': 0.3628068519795494, 'val_piece_acc': 0.8668139337990355, 'val_board_acc': 0.2098455526532}, {'val_loss': 0.04553631770145541, 'val_piece_acc': 0.9844584568140375, 'val_board_acc': 0.6061260467591668}, {'val_loss': 0.020050761248633454, 'val_piece_acc': 0.9935277508029455, 'val_board_acc': 0.7683776888666274}, {'val_loss': 0.034004968068393475, 'val_piece_acc': 0.988490576231027, 'val_board_acc': 0.6813413362462812}, {'val_loss': 0.01372150114132288, 'val_piece_acc': 0.9956815192468056, 'val_board_acc': 0.8242776043052915}, {'val_loss': 0.016787678296068677, 'val_piece_acc': 0.9946751921488766, 'val_board_acc': 0.7994992403541437}]\n"
     ]
    }
   ],
   "source": [
    "print(val_results)"
   ]
  },
  {
   "cell_type": "code",
   "execution_count": 70,
   "metadata": {},
   "outputs": [
    {
     "data": {
      "text/plain": [
       "[<matplotlib.lines.Line2D at 0x21ad8362220>]"
      ]
     },
     "execution_count": 70,
     "metadata": {},
     "output_type": "execute_result"
    },
    {
     "data": {
      "image/png": "[encoded data removed]",
      "text/plain": [
       "<Figure size 640x480 with 1 Axes>"
      ]
     },
     "metadata": {},
     "output_type": "display_data"
    }
   ],
   "source": [
    "plt.plot([e['val_loss'] for e in val_results])"
   ]
  },
  {
   "cell_type": "code",
   "execution_count": 71,
   "metadata": {},
   "outputs": [
    {
     "data": {
      "text/plain": [
       "[<matplotlib.lines.Line2D at 0x21ad83a51c0>]"
      ]
     },
     "execution_count": 71,
     "metadata": {},
     "output_type": "execute_result"
    },
    {
     "data": {
      "image/png": "[encoded data removed]",
      "text/plain": [
       "<Figure size 640x480 with 1 Axes>"
      ]
     },
     "metadata": {},
     "output_type": "display_data"
    }
   ],
   "source": [
    "plt.plot([e['val_piece_acc'] for e in val_results])"
   ]
  },
  {
   "cell_type": "code",
   "execution_count": 72,
   "metadata": {},
   "outputs": [
    {
     "data": {
      "text/plain": [
       "[<matplotlib.lines.Line2D at 0x21ad83fbca0>]"
      ]
     },
     "execution_count": 72,
     "metadata": {},
     "output_type": "execute_result"
    },
    {
     "data": {
      "image/png": "[encoded data removed]",
      "text/plain": [
       "<Figure size 640x480 with 1 Axes>"
      ]
     },
     "metadata": {},
     "output_type": "display_data"
    }
   ],
   "source": [
    "plt.plot([e['val_board_acc'] for e in val_results])"
   ]
  },
  {
   "cell_type": "code",
   "execution_count": null,
   "metadata": {},
   "outputs": [],
   "source": []
  }
 ],
 "metadata": {
  "kernelspec": {
   "display_name": "Python 3",
   "language": "python",
   "name": "python3"
  },
  "language_info": {
   "codemirror_mode": {
    "name": "ipython",
    "version": 3
   },
   "file_extension": ".py",
   "mimetype": "text/x-python",
   "name": "python",
   "nbconvert_exporter": "python",
   "pygments_lexer": "ipython3",
   "version": "3.9.6"
  }
 },
 "nbformat": 4,
 "nbformat_minor": 2
}
