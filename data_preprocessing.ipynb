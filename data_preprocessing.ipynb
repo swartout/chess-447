{
 "cells": [
  {
   "cell_type": "code",
   "execution_count": 1,
   "metadata": {},
   "outputs": [],
   "source": [
    "import chess\n",
    "import chess.pgn\n",
    "import time\n",
    "import numpy as np\n",
    "from io import StringIO\n",
    "from tqdm import tqdm\n",
    "import torch"
   ]
  },
  {
   "cell_type": "code",
   "execution_count": 2,
   "metadata": {},
   "outputs": [],
   "source": [
    "with open(\"data/raw/100k.pgn\", \"r\") as f:\n",
    "    lines = [line for line in f.readlines() if line[0] == \"1\"]"
   ]
  },
  {
   "cell_type": "code",
   "execution_count": 3,
   "metadata": {},
   "outputs": [],
   "source": [
    "piece_dict = {\n",
    "    '.': 0, 'p': 1, 'n': 2, 'b': 3, 'k': 4, 'r': 5, 'q': 6, 'P': 7, 'N': 8, 'B': 9, 'K': 10, 'R': 11, 'Q': 12\n",
    "}"
   ]
  },
  {
   "cell_type": "code",
   "execution_count": 4,
   "metadata": {},
   "outputs": [],
   "source": [
    "def board_to_tensor(board):\n",
    "    return torch.tensor([[piece_dict[p] for p in row.split(\" \")] for row in str(board).split(\"\\n\")])"
   ]
  },
  {
   "cell_type": "code",
   "execution_count": 5,
   "metadata": {},
   "outputs": [],
   "source": [
    "def get_board_tensor(pgn_str):\n",
    "    pgn = StringIO(pgn_str)\n",
    "    game = chess.pgn.read_game(pgn)\n",
    "    board = chess.Board()\n",
    "\n",
    "    boardTensor = []\n",
    "    \n",
    "    new_str = \"\"\n",
    "    # Iterate across the game stopping at random points to sample different squares\n",
    "    for i, move in enumerate(game.mainline_moves()):\n",
    "        if i % 2 == 0:\n",
    "            new_str += f\"{i//2}.\"\n",
    "        new_str += board.san(move) + \" \"\n",
    "        board.push(move)\n",
    "        boardTensor.append(board_to_tensor(board))\n",
    "\n",
    "    return new_str, torch.stack(boardTensor, axis=0)"
   ]
  },
  {
   "cell_type": "code",
   "execution_count": 6,
   "metadata": {},
   "outputs": [
    {
     "name": "stdout",
     "output_type": "stream",
     "text": [
      "0.e4 e6 1.d4 b6 2.a3 Bb7 3.Nc3 Nh6 4.Bxh6 gxh6 5.Be2 Qg5 6.Bg4 h5 7.Nf3 Qg6 8.Nh4 Qg5 9.Bxh5 Qxh4 10.Qf3 Kd8 11.Qxf7 Nc6 12.Qe8# \n",
      "torch.Size([25, 8, 8])\n"
     ]
    }
   ],
   "source": [
    "new_str, board_tensor = get_board_tensor(lines[0])\n",
    "print(new_str)\n",
    "print(board_tensor.shape)"
   ]
  },
  {
   "cell_type": "code",
   "execution_count": 7,
   "metadata": {},
   "outputs": [],
   "source": [
    "# Grab a subset of the line for faster iteration\n",
    "# lines = lines[:1_000]"
   ]
  },
  {
   "cell_type": "code",
   "execution_count": 8,
   "metadata": {},
   "outputs": [
    {
     "name": "stderr",
     "output_type": "stream",
     "text": [
      "100%|██████████| 121332/121332 [25:00<00:00, 80.83it/s] \n"
     ]
    }
   ],
   "source": [
    "X = []\n",
    "Y = []\n",
    "for line in tqdm(lines):\n",
    "    new_str, board_tensor = get_board_tensor(line)\n",
    "    X.append(new_str)\n",
    "    Y.append(board_tensor)\n",
    "\n",
    "lines = X\n",
    "boards = Y"
   ]
  },
  {
   "cell_type": "code",
   "execution_count": 9,
   "metadata": {},
   "outputs": [],
   "source": [
    "vocab = set()\n",
    "for line in X:\n",
    "    for c in line:\n",
    "        vocab.add(c)\n",
    "\n",
    "itos = {i:c for i, c in enumerate(vocab)}\n",
    "stoi = {c:i for i, c in itos.items()}"
   ]
  },
  {
   "cell_type": "code",
   "execution_count": 10,
   "metadata": {},
   "outputs": [],
   "source": [
    "# Dump vocab\n",
    "\n",
    "import pickle\n",
    "with open(\"data/preprocessed/100k/vocab.pkl\", \"wb\") as f:\n",
    "    pickle.dump((vocab, itos, stoi), f)"
   ]
  },
  {
   "cell_type": "code",
   "execution_count": 11,
   "metadata": {},
   "outputs": [],
   "source": [
    "def char_encode(inp):\n",
    "    if isinstance(inp, str):\n",
    "        return torch.tensor([stoi[c] for c in inp])\n",
    "    else:\n",
    "        return [char_encode(line) for line in inp]"
   ]
  },
  {
   "cell_type": "code",
   "execution_count": 12,
   "metadata": {},
   "outputs": [],
   "source": [
    "def create_datasets(lines, boards, stoi, bptt=64, val_split=.125, test_split=.125):\n",
    "    X = []\n",
    "    Y = []\n",
    "\n",
    "    for line, board in tqdm(zip(lines, boards), total=len(lines)):\n",
    "        if len(line) < bptt:\n",
    "            line = line + \".\" * (bptt - len(line))\n",
    "            # Pad out with random char.  Will get ignored since no more spaces\n",
    "\n",
    "        line = char_encode(line[:bptt])\n",
    "        X.append(line)\n",
    "        n_spaces = len(torch.argwhere(line == stoi[\" \"]).flatten())\n",
    "        Y.append(board[:n_spaces])\n",
    "\n",
    "    X = torch.stack(X)\n",
    "    \n",
    "    train_end = int(len(X)*(1-(val_split+test_split)))\n",
    "    val_end = int(len(X)*(1-test_split))\n",
    "\n",
    "    X_train = X[:train_end]\n",
    "    X_valid = X[train_end:val_end]\n",
    "    X_test = X[val_end:]\n",
    "\n",
    "    Y_train = Y[:train_end]\n",
    "    Y_valid = Y[train_end:val_end]\n",
    "    Y_test = Y[val_end:]\n",
    "\n",
    "    return (X_train, Y_train), (X_valid, Y_valid), (X_test, Y_test)"
   ]
  },
  {
   "cell_type": "code",
   "execution_count": 13,
   "metadata": {},
   "outputs": [
    {
     "name": "stderr",
     "output_type": "stream",
     "text": [
      "100%|██████████| 121332/121332 [00:12<00:00, 9795.25it/s] \n"
     ]
    }
   ],
   "source": [
    "bptt = 256\n",
    "\n",
    "# Y_train is list of tensors w/ board positions after each move\n",
    "# X_train is tensor of tokenized games\n",
    "\n",
    "(X_train, Y_train), (X_valid, Y_valid), (X_test, Y_test) = create_datasets(lines, boards, stoi, bptt=bptt)"
   ]
  },
  {
   "cell_type": "code",
   "execution_count": 20,
   "metadata": {},
   "outputs": [],
   "source": [
    "def dump_data(x, y, path):\n",
    "    torch.save(x, path+'_x.pt')\n",
    "    torch.save(torch.cat(y), path+'_y.pt')\n",
    "    torch.save(torch.tensor([len(l) for l in y]), path+'_lens.pt')\n",
    "\n",
    "def load_data(path):\n",
    "    x = torch.load(path+'_x.pt')\n",
    "    y = torch.load(path+'_y.pt')\n",
    "    lens = torch.load(path+'_lens.pt')\n",
    "\n",
    "    idx = torch.cat([torch.tensor([0]), torch.cumsum(lens, 0)])\n",
    "\n",
    "    y = [y[idx[i]:idx[i+1]] for i in range(len(idx)-1)]\n",
    "\n",
    "    return x, y"
   ]
  },
  {
   "cell_type": "code",
   "execution_count": 21,
   "metadata": {},
   "outputs": [],
   "source": [
    "sets = {\n",
    "    \"train\": (X_train, Y_train),\n",
    "    \"valid\": (X_valid, Y_valid),\n",
    "    \"test\": (X_test, Y_test),\n",
    "}\n",
    "\n",
    "for name, (x, y) in sets.items():\n",
    "    dump_data(x, y, f\"data/preprocessed/100k/{name}\")"
   ]
  },
  {
   "cell_type": "markdown",
   "metadata": {},
   "source": [
    "### Verify that saving and loading works"
   ]
  },
  {
   "cell_type": "code",
   "execution_count": 18,
   "metadata": {},
   "outputs": [],
   "source": [
    "x, y = load_data(\"data/preprocessed/100k/train\")"
   ]
  },
  {
   "cell_type": "code",
   "execution_count": 19,
   "metadata": {},
   "outputs": [
    {
     "name": "stdout",
     "output_type": "stream",
     "text": [
      "True\n",
      "True\n"
     ]
    }
   ],
   "source": [
    "print(torch.equal(x, X_train))\n",
    "print(all(torch.equal(i, j) for i, j in zip(Y_train, y)))"
   ]
  },
  {
   "cell_type": "code",
   "execution_count": 24,
   "metadata": {},
   "outputs": [
    {
     "data": {
      "text/plain": [
       "(array([1.6874e+04, 4.6755e+04, 3.5538e+04, 1.5788e+04, 5.0360e+03,\n",
       "        1.0390e+03, 2.0600e+02, 7.7000e+01, 1.5000e+01, 4.0000e+00]),\n",
       " array([   8.,  182.,  356.,  530.,  704.,  878., 1052., 1226., 1400.,\n",
       "        1574., 1748.]),\n",
       " <BarContainer object of 10 artists>)"
      ]
     },
     "execution_count": 24,
     "metadata": {},
     "output_type": "execute_result"
    },
    {
     "data": {
      "image/png": "[encoded data removed]",
      "text/plain": [
       "<Figure size 640x480 with 1 Axes>"
      ]
     },
     "metadata": {},
     "output_type": "display_data"
    }
   ],
   "source": [
    "import matplotlib.pyplot as plt\n",
    "plt.hist([len(line) for line in lines])"
   ]
  },
  {
   "cell_type": "code",
   "execution_count": null,
   "metadata": {},
   "outputs": [],
   "source": []
  }
 ],
 "metadata": {
  "kernelspec": {
   "display_name": "Python 3",
   "language": "python",
   "name": "python3"
  },
  "language_info": {
   "codemirror_mode": {
    "name": "ipython",
    "version": 3
   },
   "file_extension": ".py",
   "mimetype": "text/x-python",
   "name": "python",
   "nbconvert_exporter": "python",
   "pygments_lexer": "ipython3",
   "version": "3.9.6"
  }
 },
 "nbformat": 4,
 "nbformat_minor": 2
}
